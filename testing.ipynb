{
 "cells": [
  {
   "cell_type": "code",
   "execution_count": null,
   "id": "bc2a038d",
   "metadata": {},
   "outputs": [],
   "source": [
    "import os\n",
    "import glob\n",
    "import math\n",
    "import obspy\n",
    "import time\n",
    "from obspy.clients.iris import Client\n",
    "client = Client()\n",
    "from matplotlib import pyplot as plt, patches\n",
    "from matplotlib.backends.backend_pdf import PdfPages\n",
    "from IPython.display import clear_output\n",
    "import numpy as np\n",
    "from sklearn.decomposition import PCA\n",
    "from scipy import signal"
   ]
  },
  {
   "cell_type": "code",
   "execution_count": null,
   "id": "c7ce82ab",
   "metadata": {},
   "outputs": [],
   "source": []
  }
 ],
 "metadata": {
  "kernelspec": {
   "display_name": "Python 3 (ipykernel)",
   "language": "python",
   "name": "python3"
  },
  "language_info": {
   "codemirror_mode": {
    "name": "ipython",
    "version": 3
   },
   "file_extension": ".py",
   "mimetype": "text/x-python",
   "name": "python",
   "nbconvert_exporter": "python",
   "pygments_lexer": "ipython3",
   "version": "3.9.13"
  }
 },
 "nbformat": 4,
 "nbformat_minor": 5
}
